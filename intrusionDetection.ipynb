{
 "cells": [
  {
   "cell_type": "markdown",
   "id": "0de17f25",
   "metadata": {
    "heading_collapsed": true
   },
   "source": [
    "# Setup"
   ]
  },
  {
   "cell_type": "code",
   "execution_count": 1,
   "id": "c7526885",
   "metadata": {
    "hidden": true
   },
   "outputs": [],
   "source": [
    "%load_ext autoreload\n",
    "%autoreload 2"
   ]
  },
  {
   "cell_type": "code",
   "execution_count": 2,
   "id": "938417a2",
   "metadata": {
    "hidden": true
   },
   "outputs": [],
   "source": [
    "import warnings\n",
    "warnings.filterwarnings('ignore')"
   ]
  },
  {
   "cell_type": "code",
   "execution_count": 3,
   "id": "94ec6242",
   "metadata": {
    "hidden": true
   },
   "outputs": [
    {
     "data": {
      "text/plain": [
       "'/Users/christellejoseph/code/Cyber_Tools/IDS'"
      ]
     },
     "execution_count": 3,
     "metadata": {},
     "output_type": "execute_result"
    }
   ],
   "source": [
    "import os\n",
    "os.getcwd()"
   ]
  },
  {
   "cell_type": "code",
   "execution_count": 4,
   "id": "9ab866cb",
   "metadata": {
    "hidden": true
   },
   "outputs": [],
   "source": [
    "import numpy as np\n",
    "import pandas as pd\n",
    "import matplotlib.pyplot as plt\n",
    "import seaborn as sns\n",
    "\n",
    "from sklearn.preprocessing import LabelEncoder\n",
    "\n",
    "from sklearn.tree import DecisionTreeClassifier\n",
    "from sklearn.ensemble import RandomForestClassifier\n",
    "from sklearn.linear_model import LogisticRegression\n",
    "\n",
    "\n",
    "from sklearn.preprocessing import StandardScaler\n",
    "from sklearn.metrics import classification_report, accuracy_score\n",
    "from sklearn.model_selection import train_test_split\n",
    "from sklearn.model_selection import cross_val_score, cross_validate\n",
    "\n",
    "from sklearn.feature_selection import RFECV\n",
    "from sklearn.model_selection import StratifiedKFold\n",
    "\n",
    "from imblearn.over_sampling import SMOTE\n",
    "from collections import Counter"
   ]
  },
  {
   "cell_type": "code",
   "execution_count": 5,
   "id": "125cc50a",
   "metadata": {
    "hidden": true
   },
   "outputs": [],
   "source": [
    "csv_path = '/Users/christellejoseph/code/Cyber_Tools/IDS/data'\n",
    "file_dir = os.listdir(csv_path)"
   ]
  },
  {
   "cell_type": "code",
   "execution_count": 6,
   "id": "52023faf",
   "metadata": {
    "hidden": true
   },
   "outputs": [],
   "source": [
    "csv_files = []\n",
    "for file in file_dir:\n",
    "    modified_file = file.replace('-WorkingHours', '').replace('-workingHours', '').replace(\n",
    "                                        '-Afternoon', '').replace('-Morning', '').replace('.pcap_ISCX.csv', '')\n",
    "    csv_files.append(modified_file)"
   ]
  },
  {
   "cell_type": "markdown",
   "id": "6c21ef36",
   "metadata": {
    "heading_collapsed": true
   },
   "source": [
    "# Merging: Dictionary Structure"
   ]
  },
  {
   "cell_type": "code",
   "execution_count": 7,
   "id": "d7a6780e",
   "metadata": {
    "hidden": true
   },
   "outputs": [],
   "source": [
    "data = {}\n",
    "\n",
    "for name, filename in sorted(zip(csv_files, file_dir)):\n",
    "    data[name] = pd.read_csv(os.path.join(csv_path, filename))"
   ]
  },
  {
   "cell_type": "code",
   "execution_count": 8,
   "id": "626352ec",
   "metadata": {
    "hidden": true
   },
   "outputs": [
    {
     "data": {
      "text/html": [
       "<div>\n",
       "<style scoped>\n",
       "    .dataframe tbody tr th:only-of-type {\n",
       "        vertical-align: middle;\n",
       "    }\n",
       "\n",
       "    .dataframe tbody tr th {\n",
       "        vertical-align: top;\n",
       "    }\n",
       "\n",
       "    .dataframe thead th {\n",
       "        text-align: right;\n",
       "    }\n",
       "</style>\n",
       "<table border=\"1\" class=\"dataframe\">\n",
       "  <thead>\n",
       "    <tr style=\"text-align: right;\">\n",
       "      <th></th>\n",
       "      <th>Destination Port</th>\n",
       "      <th>Flow Duration</th>\n",
       "      <th>Total Fwd Packets</th>\n",
       "      <th>Total Backward Packets</th>\n",
       "      <th>Total Length of Fwd Packets</th>\n",
       "      <th>Total Length of Bwd Packets</th>\n",
       "      <th>Fwd Packet Length Max</th>\n",
       "      <th>Fwd Packet Length Min</th>\n",
       "      <th>Fwd Packet Length Mean</th>\n",
       "      <th>Fwd Packet Length Std</th>\n",
       "      <th>...</th>\n",
       "      <th>min_seg_size_forward</th>\n",
       "      <th>Active Mean</th>\n",
       "      <th>Active Std</th>\n",
       "      <th>Active Max</th>\n",
       "      <th>Active Min</th>\n",
       "      <th>Idle Mean</th>\n",
       "      <th>Idle Std</th>\n",
       "      <th>Idle Max</th>\n",
       "      <th>Idle Min</th>\n",
       "      <th>Label</th>\n",
       "    </tr>\n",
       "  </thead>\n",
       "  <tbody>\n",
       "    <tr>\n",
       "      <th>0</th>\n",
       "      <td>49188</td>\n",
       "      <td>4</td>\n",
       "      <td>2</td>\n",
       "      <td>0</td>\n",
       "      <td>12</td>\n",
       "      <td>0</td>\n",
       "      <td>6</td>\n",
       "      <td>6</td>\n",
       "      <td>6.0</td>\n",
       "      <td>0.0</td>\n",
       "      <td>...</td>\n",
       "      <td>20</td>\n",
       "      <td>0.0</td>\n",
       "      <td>0.0</td>\n",
       "      <td>0</td>\n",
       "      <td>0</td>\n",
       "      <td>0.0</td>\n",
       "      <td>0.0</td>\n",
       "      <td>0</td>\n",
       "      <td>0</td>\n",
       "      <td>BENIGN</td>\n",
       "    </tr>\n",
       "    <tr>\n",
       "      <th>1</th>\n",
       "      <td>49188</td>\n",
       "      <td>1</td>\n",
       "      <td>2</td>\n",
       "      <td>0</td>\n",
       "      <td>12</td>\n",
       "      <td>0</td>\n",
       "      <td>6</td>\n",
       "      <td>6</td>\n",
       "      <td>6.0</td>\n",
       "      <td>0.0</td>\n",
       "      <td>...</td>\n",
       "      <td>20</td>\n",
       "      <td>0.0</td>\n",
       "      <td>0.0</td>\n",
       "      <td>0</td>\n",
       "      <td>0</td>\n",
       "      <td>0.0</td>\n",
       "      <td>0.0</td>\n",
       "      <td>0</td>\n",
       "      <td>0</td>\n",
       "      <td>BENIGN</td>\n",
       "    </tr>\n",
       "  </tbody>\n",
       "</table>\n",
       "<p>2 rows × 79 columns</p>\n",
       "</div>"
      ],
      "text/plain": [
       "    Destination Port   Flow Duration   Total Fwd Packets  \\\n",
       "0              49188               4                   2   \n",
       "1              49188               1                   2   \n",
       "\n",
       "    Total Backward Packets  Total Length of Fwd Packets  \\\n",
       "0                        0                           12   \n",
       "1                        0                           12   \n",
       "\n",
       "    Total Length of Bwd Packets   Fwd Packet Length Max  \\\n",
       "0                             0                       6   \n",
       "1                             0                       6   \n",
       "\n",
       "    Fwd Packet Length Min   Fwd Packet Length Mean   Fwd Packet Length Std  \\\n",
       "0                       6                      6.0                     0.0   \n",
       "1                       6                      6.0                     0.0   \n",
       "\n",
       "   ...   min_seg_size_forward  Active Mean   Active Std   Active Max  \\\n",
       "0  ...                     20          0.0          0.0            0   \n",
       "1  ...                     20          0.0          0.0            0   \n",
       "\n",
       "    Active Min  Idle Mean   Idle Std   Idle Max   Idle Min   Label  \n",
       "0            0        0.0        0.0          0          0  BENIGN  \n",
       "1            0        0.0        0.0          0          0  BENIGN  \n",
       "\n",
       "[2 rows x 79 columns]"
      ]
     },
     "execution_count": 8,
     "metadata": {},
     "output_type": "execute_result"
    }
   ],
   "source": [
    "data['Monday'].head(2)"
   ]
  },
  {
   "cell_type": "markdown",
   "id": "36f06d9f",
   "metadata": {
    "heading_collapsed": true
   },
   "source": [
    "# Merging: Single DataFrame"
   ]
  },
  {
   "cell_type": "code",
   "execution_count": 9,
   "id": "b4e535c8",
   "metadata": {
    "hidden": true
   },
   "outputs": [],
   "source": [
    "all_data = pd.concat([pd.read_csv(os.path.join(csv_path, file)) for file in file_dir], ignore_index=True)"
   ]
  },
  {
   "cell_type": "code",
   "execution_count": 10,
   "id": "c7ddaa22",
   "metadata": {
    "hidden": true
   },
   "outputs": [
    {
     "data": {
      "text/plain": [
       "(2830743, 79)"
      ]
     },
     "execution_count": 10,
     "metadata": {},
     "output_type": "execute_result"
    }
   ],
   "source": [
    "all_data.shape"
   ]
  },
  {
   "cell_type": "code",
   "execution_count": 11,
   "id": "f389fe8c",
   "metadata": {
    "hidden": true
   },
   "outputs": [],
   "source": [
    "all_data.columns = all_data.columns.str.strip()"
   ]
  },
  {
   "cell_type": "code",
   "execution_count": 12,
   "id": "d4baac91",
   "metadata": {
    "hidden": true,
    "scrolled": false
   },
   "outputs": [],
   "source": [
    "cat_value_count = all_data['Label'].value_counts()"
   ]
  },
  {
   "cell_type": "code",
   "execution_count": 13,
   "id": "7b01e427",
   "metadata": {
    "hidden": true
   },
   "outputs": [],
   "source": [
    "all_data['Label'] = all_data['Label'].str.replace('�', '-', regex=False)\n"
   ]
  },
  {
   "cell_type": "code",
   "execution_count": 14,
   "id": "75997b68",
   "metadata": {
    "hidden": true
   },
   "outputs": [],
   "source": [
    "# all_data.to_csv('combined_df.csv', index=False)"
   ]
  },
  {
   "cell_type": "code",
   "execution_count": 15,
   "id": "1f3028cf",
   "metadata": {
    "hidden": true
   },
   "outputs": [],
   "source": [
    "# all_data = all_data.drop_duplicates()"
   ]
  },
  {
   "cell_type": "code",
   "execution_count": 16,
   "id": "70694a91",
   "metadata": {
    "hidden": true
   },
   "outputs": [
    {
     "data": {
      "text/plain": [
       "(2830743, 79)"
      ]
     },
     "execution_count": 16,
     "metadata": {},
     "output_type": "execute_result"
    }
   ],
   "source": [
    "all_data.shape"
   ]
  },
  {
   "cell_type": "code",
   "execution_count": 17,
   "id": "0fd58390",
   "metadata": {
    "hidden": true,
    "scrolled": true
   },
   "outputs": [],
   "source": [
    "# all_data.isna().sum().sort_values(ascending=False)"
   ]
  },
  {
   "cell_type": "code",
   "execution_count": 18,
   "id": "43a4e60d",
   "metadata": {
    "hidden": true
   },
   "outputs": [],
   "source": [
    "all_data = all_data.dropna(axis=1, how='any')"
   ]
  },
  {
   "cell_type": "markdown",
   "id": "cf31b30b",
   "metadata": {
    "heading_collapsed": true
   },
   "source": [
    "# Category Visualization"
   ]
  },
  {
   "cell_type": "code",
   "execution_count": 183,
   "id": "dd4b89d2",
   "metadata": {
    "hidden": true
   },
   "outputs": [
    {
     "data": {
      "image/png": "[encoded data removed]",
      "text/plain": [
       "<Figure size 800x600 with 1 Axes>"
      ]
     },
     "metadata": {},
     "output_type": "display_data"
    }
   ],
   "source": [
    "plt.figure(figsize=(8, 6))\n",
    "label_counts = all_data['Label'].value_counts().sort_values(ascending=False)\n",
    "ax = sns.countplot(y='Label', data=all_data, palette='viridis', order=label_counts.index)\n",
    "\n",
    "# Set the scale of x-axis to log to better visualize the differences\n",
    "ax.set_xscale('log')\n",
    "plt.title('Distribution of Attack Types (Log Scale)')\n",
    "plt.xlabel('Frequency (Log Scale)')\n",
    "plt.ylabel('Attack Type')\n",
    "plt.tight_layout()\n",
    "plt.show()"
   ]
  },
  {
   "cell_type": "markdown",
   "id": "3f188a2e",
   "metadata": {
    "heading_collapsed": true
   },
   "source": [
    "# Encoding"
   ]
  },
  {
   "cell_type": "code",
   "execution_count": 20,
   "id": "24e3b5c0",
   "metadata": {
    "hidden": true,
    "scrolled": true
   },
   "outputs": [],
   "source": [
    "label_encoder = LabelEncoder()\n",
    "all_data['EncodedLabel'] = label_encoder.fit_transform(all_data['Label'])\n",
    "#Get the mapping for future reference\n",
    "label_mapping = dict(zip(label_encoder.classes_, label_encoder.transform(label_encoder.classes_)))"
   ]
  },
  {
   "cell_type": "markdown",
   "id": "65a8e19e",
   "metadata": {
    "heading_collapsed": true
   },
   "source": [
    "# Feature Selection & Engineering"
   ]
  },
  {
   "cell_type": "code",
   "execution_count": 178,
   "id": "5a32d9ef",
   "metadata": {
    "hidden": true
   },
   "outputs": [],
   "source": [
    "df = all_data\n",
    "target = 'EncodedLabel'\n",
    "corr_matrix = df.corr().abs()\n",
    "\n",
    "# Select upper triangle of correlation matrix to avoid duplicate correlations\n",
    "upper = corr_matrix.where(np.triu(np.ones(corr_matrix.shape), k=1).astype(np.bool))\n",
    "\n",
    "# Find features with high correlation to remove one of a pair (above a threshold, e.g., 0.8)\n",
    "to_drop_high_corr = [column for column in upper.columns if any(upper[column] > 0.8)]\n",
    "\n",
    "# Remove features with high inter-correlation with each other\n",
    "df_reduced = df.drop(to_drop_high_corr, axis=1)\n",
    "\n",
    "# Identify features with low correlation to the target and remove them\n",
    "low_corr_with_target = corr_matrix[target][(corr_matrix[target] < 0.2)].index.tolist()\n",
    "\n",
    "# Remove features with low correlation to the target\n",
    "df_final = df_reduced.drop(low_corr_with_target, axis=1, errors='ignore') # errors='ignore' to handle cases where the column might have already been removed"
   ]
  },
  {
   "cell_type": "code",
   "execution_count": 182,
   "id": "15f3a1ba",
   "metadata": {
    "hidden": true
   },
   "outputs": [
    {
     "data": {
      "text/plain": [
       "(2827876, 13)"
      ]
     },
     "execution_count": 182,
     "metadata": {},
     "output_type": "execute_result"
    }
   ],
   "source": [
    "df_final.shape"
   ]
  },
  {
   "cell_type": "markdown",
   "id": "8a778e7e",
   "metadata": {
    "heading_collapsed": true
   },
   "source": [
    "# Balancing The Dataset"
   ]
  },
  {
   "cell_type": "code",
   "execution_count": 179,
   "id": "e898616a",
   "metadata": {
    "hidden": true
   },
   "outputs": [],
   "source": [
    "#Solves - ValueError: Input X contains infinity or a value too large\n",
    "\n",
    "df_final.replace([np.inf, -np.inf], np.nan, inplace=True)\n",
    "df_final.dropna(inplace=True)"
   ]
  },
  {
   "cell_type": "code",
   "execution_count": 180,
   "id": "ff5fb879",
   "metadata": {
    "hidden": true
   },
   "outputs": [],
   "source": [
    "X = df_final.select_dtypes(exclude='object').drop(columns = 'EncodedLabel')\n",
    "y = df_final['EncodedLabel']\n",
    "\n",
    "X_train, X_test, y_train, y_test = train_test_split(X, y, test_size=0.25, random_state=42)\n",
    "smote = SMOTE(random_state=42)\n",
    "X_res, y_res = smote.fit_resample(X_train, y_train)"
   ]
  },
  {
   "cell_type": "code",
   "execution_count": 199,
   "id": "44fc815a",
   "metadata": {
    "hidden": true
   },
   "outputs": [],
   "source": [
    "y_df = pd.DataFrame(y_res)"
   ]
  },
  {
   "cell_type": "code",
   "execution_count": null,
   "id": "cec89c44",
   "metadata": {
    "hidden": true
   },
   "outputs": [],
   "source": []
  }
 ],
 "metadata": {
  "kernelspec": {
   "display_name": "Python 3 (ipykernel)",
   "language": "python",
   "name": "python3"
  },
  "language_info": {
   "codemirror_mode": {
    "name": "ipython",
    "version": 3
   },
   "file_extension": ".py",
   "mimetype": "text/x-python",
   "name": "python",
   "nbconvert_exporter": "python",
   "pygments_lexer": "ipython3",
   "version": "3.10.6"
  },
  "toc": {
   "base_numbering": 1,
   "nav_menu": {},
   "number_sections": true,
   "sideBar": true,
   "skip_h1_title": false,
   "title_cell": "Table of Contents",
   "title_sidebar": "Contents",
   "toc_cell": false,
   "toc_position": {},
   "toc_section_display": true,
   "toc_window_display": false
  }
 },
 "nbformat": 4,
 "nbformat_minor": 5
}
