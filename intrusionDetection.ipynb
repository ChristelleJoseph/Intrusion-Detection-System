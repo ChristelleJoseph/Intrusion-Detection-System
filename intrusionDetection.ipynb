{
 "cells": [
  {
   "cell_type": "markdown",
   "id": "939240c9",
   "metadata": {},
   "source": [
    "# Setup"
   ]
  },
  {
   "cell_type": "code",
   "execution_count": null,
   "id": "5a64562a",
   "metadata": {},
   "outputs": [],
   "source": [
    "%load_ext autoreload\n",
    "%autoreload 2"
   ]
  },
  {
   "cell_type": "code",
   "execution_count": 4,
   "id": "c85a8801",
   "metadata": {},
   "outputs": [],
   "source": [
    "import warnings\n",
    "warnings.filterwarnings('ignore')"
   ]
  },
  {
   "cell_type": "code",
   "execution_count": 3,
   "id": "259dd4bd",
   "metadata": {},
   "outputs": [
    {
     "data": {
      "text/plain": [
       "'/Users/christellejoseph/code/Cyber_Tools/IDS'"
      ]
     },
     "execution_count": 3,
     "metadata": {},
     "output_type": "execute_result"
    }
   ],
   "source": [
    "import os\n",
    "os.getcwd()"
   ]
  },
  {
   "cell_type": "code",
   "execution_count": 9,
   "id": "00b9f48c",
   "metadata": {},
   "outputs": [],
   "source": [
    "import pandas as pd\n",
    "import numpy as np\n",
    "import matplotlib.pyplot as plt\n",
    "from sklearn.neighbors import KNeighborsClassifier\n",
    "from sklearn.tree import DecisionTreeClassifier\n",
    "from sklearn.ensemble import RandomForestClassifier\n",
    "from sklearn.model_selection import train_test_split\n",
    "from sklearn.preprocessing import StandardScaler\n",
    "from sklearn.metrics import classification_report, accuracy_score\n",
    "from sklearn.linear_model import LogisticRegression\n",
    "from sklearn.model_selection import cross_val_score, cross_validate\n",
    "import seaborn as sns"
   ]
  },
  {
   "cell_type": "code",
   "execution_count": 6,
   "id": "26c73ec1",
   "metadata": {},
   "outputs": [],
   "source": [
    "csv_path = '/Users/christellejoseph/code/Cyber_Tools/IDS/data'\n",
    "file_dir = os.listdir(csv_path)"
   ]
  },
  {
   "cell_type": "code",
   "execution_count": 7,
   "id": "2641de8c",
   "metadata": {},
   "outputs": [],
   "source": [
    "csv_files = []\n",
    "for file in file_dir:\n",
    "    modified_file = file.replace('-WorkingHours', '').replace('-workingHours', '').replace(\n",
    "                                        '-Afternoon', '').replace('-Morning', '').replace('.pcap_ISCX.csv', '')\n",
    "    csv_files.append(modified_file)"
   ]
  },
  {
   "cell_type": "markdown",
   "id": "676f02c2",
   "metadata": {
    "heading_collapsed": true
   },
   "source": [
    "# Merging: Dictionary Structure"
   ]
  },
  {
   "cell_type": "code",
   "execution_count": 10,
   "id": "966f4537",
   "metadata": {
    "hidden": true
   },
   "outputs": [],
   "source": [
    "data = {}\n",
    "\n",
    "for name, filename in sorted(zip(csv_files, file_dir)):\n",
    "    data[name] = pd.read_csv(os.path.join(csv_path, filename))"
   ]
  },
  {
   "cell_type": "markdown",
   "id": "b7a45396",
   "metadata": {
    "heading_collapsed": true
   },
   "source": [
    "# Merging: Single DataFrame"
   ]
  },
  {
   "cell_type": "code",
   "execution_count": null,
   "id": "2c4501f1",
   "metadata": {
    "hidden": true
   },
   "outputs": [],
   "source": [
    "all_data = pd.concat([pd.read_csv(os.path.join(csv_path, file)) for file in file_dir], ignore_index=True)"
   ]
  }
 ],
 "metadata": {
  "kernelspec": {
   "display_name": "Python 3 (ipykernel)",
   "language": "python",
   "name": "python3"
  },
  "language_info": {
   "codemirror_mode": {
    "name": "ipython",
    "version": 3
   },
   "file_extension": ".py",
   "mimetype": "text/x-python",
   "name": "python",
   "nbconvert_exporter": "python",
   "pygments_lexer": "ipython3",
   "version": "3.10.6"
  },
  "toc": {
   "base_numbering": 1,
   "nav_menu": {},
   "number_sections": true,
   "sideBar": true,
   "skip_h1_title": false,
   "title_cell": "Table of Contents",
   "title_sidebar": "Contents",
   "toc_cell": false,
   "toc_position": {},
   "toc_section_display": true,
   "toc_window_display": false
  }
 },
 "nbformat": 4,
 "nbformat_minor": 5
}
